{
  "nbformat": 4,
  "nbformat_minor": 0,
  "metadata": {
    "colab": {
      "provenance": []
    },
    "kernelspec": {
      "name": "python3",
      "display_name": "Python 3"
    },
    "language_info": {
      "name": "python"
    }
  },
  "cells": [
    {
      "cell_type": "code",
      "execution_count": 21,
      "metadata": {
        "id": "yz4C-rzVuXeU"
      },
      "outputs": [],
      "source": [
        "import torch\n",
        "from torch.utils.data import Dataset\n",
        "from torch.utils.data import DataLoader\n",
        "import torchvision\n",
        "from torchvision import datasets\n",
        "from torchvision.transforms import ToTensor\n",
        "import matplotlib.pyplot as plt\n",
        "import json\n",
        "from PIL import Image\n",
        "import os"
      ]
    },
    {
      "cell_type": "code",
      "source": [
        "# Download data in json format\n",
        "\n",
        "os.makedirs(\"images_train\", exist_ok=True)\n",
        "os.makedirs(\"images_test\", exist_ok=True)\n",
        "\n",
        "\n",
        "train_data = datasets.FashionMNIST(\n",
        "    root=\"data\",\n",
        "    train=True,\n",
        "    download=False,\n",
        "    transform=ToTensor()\n",
        ")\n",
        "\n",
        "\n",
        "test_data = datasets.FashionMNIST(\n",
        "    root=\"data\",\n",
        "    train=False,\n",
        "    download=False,\n",
        "    transform=ToTensor()\n",
        ")\n",
        "\n",
        "# Create JSON files for training and test datasets\n",
        "def create_json(dataset, json_filename):\n",
        "    data_list = []\n",
        "    for i, (image, label) in enumerate(dataset):\n",
        "        data_list.append({\"img_path\": f\"{i}.png\", \"labels\": label})\n",
        "        base_name = os.path.basename(json_filename)\n",
        "        type_data = base_name.split('_')[0] # returns train or test\n",
        "        directory = \"images_\" + type_data\n",
        "        image_path = os.path.join(directory, f\"{i}.png\")\n",
        "        torchvision.utils.save_image(image, image_path)\n",
        "    with open(json_filename, 'w') as json_file:\n",
        "      for data in data_list:\n",
        "        json.dump(data, json_file)\n",
        "        json_file.write('\\n')\n",
        "\n",
        "create_json(train_data, \"train_data.json\")\n",
        "create_json(test_data, \"test_data.json\")"
      ],
      "metadata": {
        "id": "ZvZShlYQ4s6m"
      },
      "execution_count": 68,
      "outputs": []
    },
    {
      "cell_type": "code",
      "source": [
        "# Dataset customed\n",
        "\n",
        "class CustomImageDataset(Dataset):\n",
        "\n",
        "    def __init__(self, json_filename, transform=None):\n",
        "        \"\"\"\n",
        "        Arguments:\n",
        "            json_filename (string): Json file with images paths and labels.\n",
        "            transform (callable, optional): Optional transform to be applied.\n",
        "        \"\"\"\n",
        "        self.data_list = []\n",
        "        with open(json_filename, 'r') as file:\n",
        "          for line in file:\n",
        "              loaded_dict = json.loads(line)\n",
        "              self.data_list.append(loaded_dict)\n",
        "        self.transform = transform\n",
        "        self.json_filename = json_filename\n",
        "\n",
        "    def __len__(self):\n",
        "        return len(self.data_list)\n",
        "\n",
        "    def __getitem__(self, idx):\n",
        "      img_path_aux = self.data_list[idx]['img_path']\n",
        "      base_name = os.path.basename(self.json_filename)\n",
        "      type_data = base_name.split('_')[0]\n",
        "      directory = \"images_\" + type_data\n",
        "      img_path = os.path.join(directory, img_path_aux)\n",
        "      image = Image.open(img_path)\n",
        "\n",
        "      #image = Image.open(img_path).convert('RGB')\n",
        "      if self.transform:\n",
        "            sample = self.transform(sample)\n",
        "\n",
        "      label = self.data_list[idx]['labels']\n",
        "      return image, label\n",
        "\n",
        "train_dataset = CustomImageDataset(\"train_data.json\")\n",
        "test_dataset = CustomImageDataset(\"test_data.json\")"
      ],
      "metadata": {
        "id": "DQduwX-hvknz"
      },
      "execution_count": 70,
      "outputs": []
    },
    {
      "cell_type": "code",
      "source": [
        "a, b = test_dataset.__getitem__(0)\n",
        "print(b)\n",
        "\n",
        "plt.imshow(a)\n",
        "plt.axis('off')  # Hide axis\n",
        "plt.show()\n",
        "\n",
        "a, b = train_dataset.__getitem__(0)\n",
        "print(b)\n",
        "\n",
        "plt.imshow(a)\n",
        "plt.axis('off')  # Hide axis\n",
        "plt.show()"
      ],
      "metadata": {
        "colab": {
          "base_uri": "https://localhost:8080/",
          "height": 830
        },
        "id": "t3uH41yx6mCK",
        "outputId": "917c8a57-f961-4e52-ffc4-33cfdaf927e9"
      },
      "execution_count": 72,
      "outputs": [
        {
          "output_type": "stream",
          "name": "stdout",
          "text": [
            "9\n"
          ]
        },
        {
          "output_type": "display_data",
          "data": {
            "text/plain": [
              "<Figure size 640x480 with 1 Axes>"
            ],
            "image/png": "[encoded data removed]"
          },
          "metadata": {}
        },
        {
          "output_type": "stream",
          "name": "stdout",
          "text": [
            "9\n"
          ]
        },
        {
          "output_type": "display_data",
          "data": {
            "text/plain": [
              "<Figure size 640x480 with 1 Axes>"
            ],
            "image/png": "[encoded data removed]"
          },
          "metadata": {}
        }
      ]
    }
  ]
}